{
 "cells": [
  {
   "cell_type": "markdown",
   "metadata": {},
   "source": [
    "# Capstone Project - Car accident severity\n",
    "                          Marquise Piton\n",
    "                          September 18, 2020\n"
   ]
  },
  {
   "cell_type": "markdown",
   "metadata": {},
   "source": [
    "## 1.Introduction\n",
    "### 1.1 Background"
   ]
  },
  {
   "cell_type": "markdown",
   "metadata": {},
   "source": [
    "Driving is an essential task in most adult's lives. On January 29th, 1886, the first automobile was created, which revolutionized our lives in every way. You drive to work, buy groceries from the store, travel to other places for vacation, and many more examples. Knowing the importance of driving in our daily lives, we must also consider the dangers of getting behind the wheel and examine the various causes of accidents. "
   ]
  },
  {
   "cell_type": "markdown",
   "metadata": {},
   "source": [
    "### 1.2 Problem"
   ]
  },
  {
   "cell_type": "markdown",
   "metadata": {},
   "source": [
    "Many of the weather conditions and road conditions can affect the driver's ability. On the other hand, the driver can't control the conditions of the weather or roads. Still, suppose if there was a study that can inform the driver of the possibilities of getting into an accident base on the road and weather conditions. In that case, this could have a beneficial effect on the driver's ability to drive in these conditions and how severe the accident will be if you were in an accident. "
   ]
  },
  {
   "cell_type": "markdown",
   "metadata": {},
   "source": [
    "## 1.3 Interest "
   ]
  },
  {
   "cell_type": "markdown",
   "metadata": {},
   "source": [
    "Anyone that uses a car for professional or casual reasons would be very interested in theses studied predictions. This study could save lives, money, or even prevent traffic jams in the future. "
   ]
  },
  {
   "cell_type": "markdown",
   "metadata": {},
   "source": [
    "## 2. Data acquistion and cleaning\n",
    "### Data sources"
   ]
  },
  {
   "cell_type": "markdown",
   "metadata": {},
   "source": [
    "The data I will be using will come from the \"Applied Data Science Capstone\" course under the \"Introduction to Capstone Project.\" Here is a link that will take you to the data source: https://www.coursera.org/learn/applied-data-science-capstone/supplement/Nh5uS/downloading-example-dataset. The data showcase the different types of accidents and the various conditions (weather and road). With this data, we could calculate the possible severity of an accident based on situations and inform the driver, possibly implementing safer driving decisions."
   ]
  },
  {
   "cell_type": "markdown",
   "metadata": {},
   "source": []
  },
  {
   "cell_type": "code",
   "execution_count": null,
   "metadata": {},
   "outputs": [],
   "source": []
  },
  {
   "cell_type": "code",
   "execution_count": null,
   "metadata": {},
   "outputs": [],
   "source": []
  },
  {
   "cell_type": "code",
   "execution_count": null,
   "metadata": {},
   "outputs": [],
   "source": []
  },
  {
   "cell_type": "code",
   "execution_count": null,
   "metadata": {},
   "outputs": [],
   "source": []
  },
  {
   "cell_type": "code",
   "execution_count": null,
   "metadata": {},
   "outputs": [],
   "source": []
  }
 ],
 "metadata": {
  "kernelspec": {
   "display_name": "Python 3",
   "language": "python",
   "name": "python3"
  },
  "language_info": {
   "codemirror_mode": {
    "name": "ipython",
    "version": 3
   },
   "file_extension": ".py",
   "mimetype": "text/x-python",
   "name": "python",
   "nbconvert_exporter": "python",
   "pygments_lexer": "ipython3",
   "version": "3.7.1"
  }
 },
 "nbformat": 4,
 "nbformat_minor": 2
}
